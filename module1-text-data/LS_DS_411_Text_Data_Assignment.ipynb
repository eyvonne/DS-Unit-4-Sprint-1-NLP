{
 "cells": [
  {
   "cell_type": "markdown",
   "metadata": {},
   "source": [
    "<img align=\"left\" src=\"https://lever-client-logos.s3.amazonaws.com/864372b1-534c-480e-acd5-9711f850815c-1524247202159.png\" width=200>\n",
    "<br></br>\n",
    "<br></br>\n",
    "\n",
    "# Natural Language Processing (NLP)\n",
    "## *Data Science Unit 4 Sprint 1 Assignment 1*\n",
    "\n",
    "Your goal in assignment: find the attributes of the best & worst coffee shops in the dataset. The text is fairly raw: dates in the review, extra words in the `star_rating` column, etc. You'll probably want to clean that stuff up for a better analysis. \n",
    "\n",
    "Analyze the corpus of text using text visualizations of token frequency. Try cleaning the data as much as possible. Try the following techniques: \n",
    "- Lemmatization\n",
    "- Custom stopword removal\n",
    "\n",
    "Keep in mind the attributes of good tokens. Once you have a solid baseline, layer in the star rating in your visualization(s). Keep part in this assignment - produce a write-up of the attributes of the best and worst coffee shops. Based on your analysis, what makes the best the best and the worst the worst. Use graphs and numbesr from your analysis to support your conclusions. There should be plenty of markdown cells! :coffee:"
   ]
  },
  {
   "cell_type": "code",
   "execution_count": 1,
   "metadata": {},
   "outputs": [
    {
     "data": {
      "image/jpeg": "[encoded data removed]",
      "text/html": [
       "\n",
       "        <iframe\n",
       "            width=\"400\"\n",
       "            height=\"300\"\n",
       "            src=\"https://www.youtube.com/embed/Jml7NVYm8cs\"\n",
       "            frameborder=\"0\"\n",
       "            allowfullscreen\n",
       "        ></iframe>\n",
       "        "
      ],
      "text/plain": [
       "<IPython.lib.display.YouTubeVideo at 0x111b4ec50>"
      ]
     },
     "execution_count": 1,
     "metadata": {},
     "output_type": "execute_result"
    }
   ],
   "source": [
    "from IPython.display import YouTubeVideo\n",
    "\n",
    "YouTubeVideo('Jml7NVYm8cs')"
   ]
  },
  {
   "cell_type": "code",
   "execution_count": 2,
   "metadata": {},
   "outputs": [
    {
     "data": {
      "text/plain": [
       "'/Users/jonathansokoll/Documents/lambda/DS-Unit-4-Sprint-1-NLP/module1-text-data'"
      ]
     },
     "execution_count": 2,
     "metadata": {},
     "output_type": "execute_result"
    }
   ],
   "source": [
    "%pwd"
   ]
  },
  {
   "cell_type": "code",
   "execution_count": 3,
   "metadata": {},
   "outputs": [
    {
     "data": {
      "text/html": [
       "<div>\n",
       "<style scoped>\n",
       "    .dataframe tbody tr th:only-of-type {\n",
       "        vertical-align: middle;\n",
       "    }\n",
       "\n",
       "    .dataframe tbody tr th {\n",
       "        vertical-align: top;\n",
       "    }\n",
       "\n",
       "    .dataframe thead th {\n",
       "        text-align: right;\n",
       "    }\n",
       "</style>\n",
       "<table border=\"1\" class=\"dataframe\">\n",
       "  <thead>\n",
       "    <tr style=\"text-align: right;\">\n",
       "      <th></th>\n",
       "      <th>coffee_shop_name</th>\n",
       "      <th>full_review_text</th>\n",
       "      <th>star_rating</th>\n",
       "    </tr>\n",
       "  </thead>\n",
       "  <tbody>\n",
       "    <tr>\n",
       "      <th>0</th>\n",
       "      <td>The Factory - Cafe With a Soul</td>\n",
       "      <td>11/25/2016 1 check-in Love love loved the atm...</td>\n",
       "      <td>5.0 star rating</td>\n",
       "    </tr>\n",
       "    <tr>\n",
       "      <th>1</th>\n",
       "      <td>The Factory - Cafe With a Soul</td>\n",
       "      <td>12/2/2016 Listed in Date Night: Austin, Ambia...</td>\n",
       "      <td>4.0 star rating</td>\n",
       "    </tr>\n",
       "    <tr>\n",
       "      <th>2</th>\n",
       "      <td>The Factory - Cafe With a Soul</td>\n",
       "      <td>11/30/2016 1 check-in Listed in Brunch Spots ...</td>\n",
       "      <td>4.0 star rating</td>\n",
       "    </tr>\n",
       "    <tr>\n",
       "      <th>3</th>\n",
       "      <td>The Factory - Cafe With a Soul</td>\n",
       "      <td>11/25/2016 Very cool decor! Good drinks Nice ...</td>\n",
       "      <td>2.0 star rating</td>\n",
       "    </tr>\n",
       "    <tr>\n",
       "      <th>4</th>\n",
       "      <td>The Factory - Cafe With a Soul</td>\n",
       "      <td>12/3/2016 1 check-in They are located within ...</td>\n",
       "      <td>4.0 star rating</td>\n",
       "    </tr>\n",
       "  </tbody>\n",
       "</table>\n",
       "</div>"
      ],
      "text/plain": [
       "                  coffee_shop_name  \\\n",
       "0  The Factory - Cafe With a Soul    \n",
       "1  The Factory - Cafe With a Soul    \n",
       "2  The Factory - Cafe With a Soul    \n",
       "3  The Factory - Cafe With a Soul    \n",
       "4  The Factory - Cafe With a Soul    \n",
       "\n",
       "                                    full_review_text        star_rating  \n",
       "0   11/25/2016 1 check-in Love love loved the atm...   5.0 star rating   \n",
       "1   12/2/2016 Listed in Date Night: Austin, Ambia...   4.0 star rating   \n",
       "2   11/30/2016 1 check-in Listed in Brunch Spots ...   4.0 star rating   \n",
       "3   11/25/2016 Very cool decor! Good drinks Nice ...   2.0 star rating   \n",
       "4   12/3/2016 1 check-in They are located within ...   4.0 star rating   "
      ]
     },
     "execution_count": 3,
     "metadata": {},
     "output_type": "execute_result"
    }
   ],
   "source": [
    "import pandas as pd\n",
    "\n",
    "url = \"https://raw.githubusercontent.com/LambdaSchool/DS-Unit-4-Sprint-1-NLP/master/module1-text-data/data/yelp_coffeeshop_review_data.csv\"\n",
    "\n",
    "shops = pd.read_csv(url)\n",
    "shops.head()"
   ]
  },
  {
   "cell_type": "code",
   "execution_count": 101,
   "metadata": {},
   "outputs": [],
   "source": [
    "import re\n",
    "import spacy\n",
    "from spacy.tokenizer import Tokenizer"
   ]
  },
  {
   "cell_type": "code",
   "execution_count": 104,
   "metadata": {},
   "outputs": [],
   "source": [
    "nlp=spacy.load('en_core_web_lg')\n",
    "tokenizer=Tokenizer(nlp.vocab)"
   ]
  },
  {
   "cell_type": "code",
   "execution_count": 254,
   "metadata": {},
   "outputs": [],
   "source": [
    "tokens= []\n",
    "\n",
    "for doc in tokenizer.pipe(shops['full_review_text']):\n",
    "    doctoken=[]\n",
    "    STOP_WORDS = nlp.Defaults.stop_words.union(['I', 'coffee', 'i', 'Coffee', 'it', \n",
    "                                                \"it's\", 'it.', 'the', 'this', 'im', \"i'm\",\n",
    "                                               'austin', 'Shop',\"ive\", 'place'])\n",
    "    for token in doc:\n",
    "        if (re.sub(r'[^a-zA-Z ^0-9]', '', token.text.lower()) not in STOP_WORDS):\n",
    "            if (token.is_punct != True) & (token.text!=' '):\n",
    "                doctoken.append(token.lemma_.lower())\n",
    "    #removes the dates\n",
    "    del doctoken[:1]\n",
    "    #removes the check in counts\n",
    "    try:\n",
    "        int(doctoken[0])\n",
    "        del doctoken[:2]\n",
    "    except:\n",
    "        pass\n",
    "    #removes all the empty strings\n",
    "    doctoken=list(filter(lambda x: x!='', doctoken))\n",
    "    doctoken=[re.sub(r'[^a-zA-Z ^0-9]', '', text) for text in doctoken]\n",
    "    tokens.append(doctoken)\n",
    "\n",
    "shops['tokenizer']=tokens"
   ]
  },
  {
   "cell_type": "code",
   "execution_count": 255,
   "metadata": {},
   "outputs": [
    {
     "data": {
      "text/plain": [
       "0       [love, love, love, atmosphere, corner, shop, s...\n",
       "1       [listed, date, night, ambiance, beautiful, lov...\n",
       "2       [listed, brunch, spots, love, eclectic, homey,...\n",
       "3       [cool, decor, good, drink, nice, seat, overpri...\n",
       "4       [locate, northcross, mall, shop, center, face,...\n",
       "5       [cute, cafe, think, moment, step, wasnt, didnt...\n",
       "6       [listed, nuptial, bliss, anderson, lane, new, ...\n",
       "7       [love, 5, star, cleanliness, 5, star, fun, amb...\n",
       "8       [ok, lets, try, approach, pros, music, seating...\n",
       "9       [show, social, medium, day, finally, visited, ...\n",
       "10      [listed, americano, average, cute, study, spot...\n",
       "11      [store, decoration, honestly, good, shop, surr...\n",
       "12      [listed, 2016, time, charm, factory, decor, in...\n",
       "13      [cute, little, cafe, drive, time, hadnt, notic...\n",
       "14      [beautiful, eccentric, shop, library, peculiar...\n",
       "15      [listed, search, fantastic, didnt, want, write...\n",
       "16      [love, atmosphere, frequent, shop, definitely,...\n",
       "17      [check, video, review, youtubecomwatchvn8ki, c...\n",
       "18      [note, come, youre, look, work, remotely, wifi...\n",
       "19      [aesthetic, love, corner, shop, downside, ther...\n",
       "20      [checked, factory, past, sunday, husband, want...\n",
       "21      [cute, new, favorite, spot, burnetin, northcro...\n",
       "22      [tried, new, cafe, spot, burnet, friend, unass...\n",
       "23      [greet, atmosphere, feel, created, speak, free...\n",
       "24      [craft, drinks, tea, beerwine, friendly, staff...\n",
       "25      [okay, visit, friend, la, try, mint, mojito, i...\n",
       "26      [guys, amazing, limited, food, menu, waffle, o...\n",
       "27      [fantastic, atmosphere, drop, catch, work, fin...\n",
       "28      [amazing, wifi, thats, fine, mean, hang, frien...\n",
       "29      [write, yelp, reviews, walk, feel, like, hipst...\n",
       "                              ...                        \n",
       "7586    [listed, wanna, eat, north, central, tea, brun...\n",
       "7587    [listed, 100, yelp, review, challenge, come, o...\n",
       "7588    [let, start, say, introduce, salted, toffee, c...\n",
       "7589    [great, restaurant, think, disservice, appear,...\n",
       "7590    [today, try, september, list, let, start, entr...\n",
       "7591    [well, place, eat, youre, celiac, clean, prepa...\n",
       "7592    [good, service, good, food, prices, expensive,...\n",
       "7593    [favorite, tea, jasmine, blueberry, green, tea...\n",
       "7594    [favorite, tea, vegan, friendly, vegan, soup, ...\n",
       "7595    [listed, vegan, beast, time, friends, havent, ...\n",
       "7596    [well, experience, restaurant, jordan, waitres...\n",
       "7597    [listed, 2014, yelp, 100, challenge, holla, su...\n",
       "7598    [go, steep, room, today, early, lunch, employe...\n",
       "7599    [hate, go, food, bc, lot, time, feel, like, co...\n",
       "7600    [great, service, unimaginative, uneventful, fo...\n",
       "7601    [great, selection, tea, purchase, home, variet...\n",
       "7602    [week, masala, chai, fix, wait, time, table, r...\n",
       "7603    [went, lunch, today, lauren, h, baby, c, calle...\n",
       "7604    [complaint, wonderful, little, restaurant, tbl...\n",
       "7605    [get, chipotle, chocolate, chai, tea, amazing,...\n",
       "7606    [great, tea, food, domain, location, roomy, cl...\n",
       "7607    [amazing, favorite, spot, hit, totally, great,...\n",
       "7608    [come, visit, friend, fun, lot, yummy, options...\n",
       "7609    [notice, friend, come, enjoy, decide, couple, ...\n",
       "7610    [great, food, havent, meal, enjoy, clean, grea...\n",
       "7611    [actually, step, restaurant, chance, favorite,...\n",
       "7612    [ok, steeping, room, awesome, great, menu, ite...\n",
       "7613    [loved, come, tea, atmosphere, pretty, fresh, ...\n",
       "7614    [food, average, booth, didnt, feel, clean, wai...\n",
       "7615    [finally, stop, lunch, colleague, glad, delici...\n",
       "Name: tokenizer, Length: 7616, dtype: object"
      ]
     },
     "execution_count": 255,
     "metadata": {},
     "output_type": "execute_result"
    }
   ],
   "source": [
    "shops['tokenizer']"
   ]
  },
  {
   "cell_type": "code",
   "execution_count": 192,
   "metadata": {},
   "outputs": [],
   "source": [
    "\n",
    "# Start here\n",
    "shops['full_review_text']\n",
    "def tokenize(text):\n",
    "    tokens=re.sub(r'[^a-zA-Z ^0-9]', '', text)\n",
    "    tokens=tokens.lower().split(' ')\n",
    "    #removes the dates\n",
    "    del tokens[:2]\n",
    "    #removes the check in counts\n",
    "    try:\n",
    "        int(tokens[0])\n",
    "        del tokens[:2]\n",
    "    except:\n",
    "        pass\n",
    "    #removes all the empty strings\n",
    "    tokens=list(filter(lambda x: x!='', tokens))\n",
    "    return tokens\n",
    "\n",
    "def stars(text):\n",
    "    stars=text.split()\n",
    "    stars=int(list(stars[0])[0])\n",
    "    return stars\n"
   ]
  },
  {
   "cell_type": "code",
   "execution_count": 193,
   "metadata": {},
   "outputs": [],
   "source": [
    "shops['stars']=shops['star_rating'].apply(stars)"
   ]
  },
  {
   "cell_type": "code",
   "execution_count": 194,
   "metadata": {},
   "outputs": [],
   "source": [
    "shops['tokens']=shops['full_review_text'].apply(tokenize)"
   ]
  },
  {
   "cell_type": "code",
   "execution_count": 195,
   "metadata": {
    "collapsed": true,
    "jupyter": {
     "outputs_hidden": true
    }
   },
   "outputs": [
    {
     "data": {
      "text/plain": [
       "['love',\n",
       " 'love',\n",
       " 'loved',\n",
       " 'the',\n",
       " 'atmosphere',\n",
       " 'every',\n",
       " 'corner',\n",
       " 'of',\n",
       " 'the',\n",
       " 'coffee',\n",
       " 'shop',\n",
       " 'had',\n",
       " 'its',\n",
       " 'own',\n",
       " 'style',\n",
       " 'and',\n",
       " 'there',\n",
       " 'were',\n",
       " 'swings',\n",
       " 'i',\n",
       " 'ordered',\n",
       " 'the',\n",
       " 'matcha',\n",
       " 'latte',\n",
       " 'and',\n",
       " 'it',\n",
       " 'was',\n",
       " 'muy',\n",
       " 'fantastico',\n",
       " 'ordering',\n",
       " 'and',\n",
       " 'getting',\n",
       " 'my',\n",
       " 'drink',\n",
       " 'were',\n",
       " 'pretty',\n",
       " 'streamlined',\n",
       " 'i',\n",
       " 'ordered',\n",
       " 'on',\n",
       " 'an',\n",
       " 'ipad',\n",
       " 'which',\n",
       " 'included',\n",
       " 'all',\n",
       " 'beverage',\n",
       " 'selections',\n",
       " 'that',\n",
       " 'ranged',\n",
       " 'from',\n",
       " 'coffee',\n",
       " 'to',\n",
       " 'wine',\n",
       " 'desired',\n",
       " 'level',\n",
       " 'of',\n",
       " 'sweetness',\n",
       " 'and',\n",
       " 'a',\n",
       " 'checkout',\n",
       " 'system',\n",
       " 'i',\n",
       " 'got',\n",
       " 'my',\n",
       " 'latte',\n",
       " 'within',\n",
       " 'minutes',\n",
       " 'i',\n",
       " 'was',\n",
       " 'hoping',\n",
       " 'for',\n",
       " 'a',\n",
       " 'typical',\n",
       " 'heart',\n",
       " 'or',\n",
       " 'feather',\n",
       " 'on',\n",
       " 'my',\n",
       " 'latte',\n",
       " 'but',\n",
       " 'found',\n",
       " 'myself',\n",
       " 'listing',\n",
       " 'out',\n",
       " 'all',\n",
       " 'the',\n",
       " 'possibilities',\n",
       " 'of',\n",
       " 'what',\n",
       " 'the',\n",
       " 'art',\n",
       " 'may',\n",
       " 'be',\n",
       " 'any',\n",
       " 'ideas']"
      ]
     },
     "execution_count": 195,
     "metadata": {},
     "output_type": "execute_result"
    }
   ],
   "source": [
    "shops['tokens'][0]"
   ]
  },
  {
   "cell_type": "markdown",
   "metadata": {},
   "source": [
    "## How do we want to analyze these coffee shop tokens? \n",
    "\n",
    "- Overall Word / Token Count\n",
    "- View Counts by Rating \n",
    "- *Hint:* a 'bad' coffee shops has a rating betweeen 1 & 3 based on the distribution of ratings. A 'good' coffee shop is a 4 or 5. "
   ]
  },
  {
   "cell_type": "code",
   "execution_count": 196,
   "metadata": {},
   "outputs": [],
   "source": [
    "from collections import Counter"
   ]
  },
  {
   "cell_type": "code",
   "execution_count": 204,
   "metadata": {},
   "outputs": [
    {
     "data": {
      "text/plain": [
       "[('place', 5426),\n",
       " ('good', 3973),\n",
       " ('great', 3919),\n",
       " ('like', 3088),\n",
       " ('love', 1935),\n",
       " ('time', 1884),\n",
       " ('food', 1836),\n",
       " ('nice', 1741),\n",
       " ('shop', 1680),\n",
       " ('friendly', 1659)]"
      ]
     },
     "execution_count": 204,
     "metadata": {},
     "output_type": "execute_result"
    }
   ],
   "source": [
    "cnter=Counter()\n",
    "shops.tokenizer.apply(lambda x: cnter.update(x))\n",
    "cnter.most_common(10)"
   ]
  },
  {
   "cell_type": "code",
   "execution_count": 29,
   "metadata": {},
   "outputs": [
    {
     "data": {
      "text/plain": [
       "(7616, 5)"
      ]
     },
     "execution_count": 29,
     "metadata": {},
     "output_type": "execute_result"
    }
   ],
   "source": [
    "shops.shape"
   ]
  },
  {
   "cell_type": "code",
   "execution_count": 219,
   "metadata": {},
   "outputs": [],
   "source": [
    "def countbyrate(rating):\n",
    "    '''rating is in number of stars to see word counts for'''\n",
    "    df=shops[shops['stars'] == rating]\n",
    "    return df\n",
    "\n",
    "def countrates(ratings):\n",
    "    df=pd.DataFrame(columns=shops.columns)\n",
    "    for rate in ratings:\n",
    "        df=df.append(countbyrate(rate))\n",
    "    count=Counter()\n",
    "    df['tokenizer'].apply(lambda x: count.update(x))\n",
    "    return count"
   ]
  },
  {
   "cell_type": "code",
   "execution_count": 220,
   "metadata": {},
   "outputs": [
    {
     "data": {
      "text/plain": [
       "[('place', 1112),\n",
       " ('good', 877),\n",
       " ('like', 876),\n",
       " ('food', 484),\n",
       " ('time', 478),\n",
       " ('great', 466),\n",
       " ('dont', 449),\n",
       " ('service', 445),\n",
       " ('people', 375),\n",
       " ('pretty', 363)]"
      ]
     },
     "execution_count": 220,
     "metadata": {},
     "output_type": "execute_result"
    }
   ],
   "source": [
    "countrates([1,2,3]).most_common(10)"
   ]
  },
  {
   "cell_type": "code",
   "execution_count": 221,
   "metadata": {},
   "outputs": [
    {
     "data": {
      "text/plain": [
       "[('place', 4314),\n",
       " ('great', 3453),\n",
       " ('good', 3096),\n",
       " ('like', 2212),\n",
       " ('love', 1725),\n",
       " ('friendly', 1462),\n",
       " ('time', 1406),\n",
       " ('nice', 1395),\n",
       " ('shop', 1370),\n",
       " ('food', 1352)]"
      ]
     },
     "execution_count": 221,
     "metadata": {},
     "output_type": "execute_result"
    }
   ],
   "source": [
    "countrates([4,5]).most_common(10)"
   ]
  },
  {
   "cell_type": "code",
   "execution_count": 257,
   "metadata": {},
   "outputs": [],
   "source": [
    "good=shops[shops['stars']>3]\n",
    "bad=shops[shops['stars']<4]\n",
    "goodcount=Counter()\n",
    "badcount=Counter()\n",
    "good['tokenizer'].apply(lambda x: goodcount.update(x))\n",
    "bad['tokenizer'].apply(lambda x: badcount.update(x))\n",
    "pass"
   ]
  },
  {
   "cell_type": "code",
   "execution_count": 247,
   "metadata": {},
   "outputs": [],
   "source": [
    "#coppied from lecture \n",
    "#I did go through it line by line to make sure I know how it works\n",
    "def count(docs):\n",
    "\n",
    "        word_counts = Counter()\n",
    "        appears_in = Counter()\n",
    "        \n",
    "        total_docs = len(docs)\n",
    "\n",
    "        for doc in docs:\n",
    "            word_counts.update(doc)\n",
    "            appears_in.update(set(doc))\n",
    "\n",
    "        temp = zip(word_counts.keys(), word_counts.values())\n",
    "        \n",
    "        wc = pd.DataFrame(temp, columns = ['word', 'count'])\n",
    "\n",
    "        wc['rank'] = wc['count'].rank(method='first', ascending=False)\n",
    "        total = wc['count'].sum()\n",
    "\n",
    "        wc['pct_total'] = wc['count'].apply(lambda x: x / total)\n",
    "        \n",
    "        wc = wc.sort_values(by='rank')\n",
    "        wc['cul_pct_total'] = wc['pct_total'].cumsum()\n",
    "\n",
    "        t2 = zip(appears_in.keys(), appears_in.values())\n",
    "        ac = pd.DataFrame(t2, columns=['word', 'appears_in'])\n",
    "        wc = ac.merge(wc, on='word')\n",
    "\n",
    "        wc['appears_in_pct'] = wc['appears_in'].apply(lambda x: x / total_docs)\n",
    "        \n",
    "        return wc.sort_values(by='rank')"
   ]
  },
  {
   "cell_type": "code",
   "execution_count": 258,
   "metadata": {},
   "outputs": [],
   "source": [
    "goodCount=count(good['tokenizer'])\n",
    "badCount=count(bad['tokenizer'])"
   ]
  },
  {
   "cell_type": "markdown",
   "metadata": {},
   "source": [
    "## Can visualize the words with the greatest difference in counts between 'good' & 'bad'?\n",
    "\n",
    "Couple Notes: \n",
    "- Rel. freq. instead of absolute counts b/c of different numbers of reviews\n",
    "- Only look at the top 5-10 words with the greatest differences\n"
   ]
  },
  {
   "cell_type": "code",
   "execution_count": 259,
   "metadata": {},
   "outputs": [],
   "source": [
    "topGood=goodCount.head(20)"
   ]
  },
  {
   "cell_type": "code",
   "execution_count": 260,
   "metadata": {},
   "outputs": [],
   "source": [
    "topBad=badCount.head(20)"
   ]
  },
  {
   "cell_type": "code",
   "execution_count": 261,
   "metadata": {},
   "outputs": [],
   "source": [
    "import squarify\n",
    "import matplotlib.pyplot as plt"
   ]
  },
  {
   "cell_type": "code",
   "execution_count": 262,
   "metadata": {},
   "outputs": [
    {
     "data": {
      "image/png": "[encoded data removed]",
      "text/plain": [
       "<Figure size 432x288 with 1 Axes>"
      ]
     },
     "metadata": {
      "needs_background": "light"
     },
     "output_type": "display_data"
    }
   ],
   "source": [
    "def sqPlot(df):\n",
    "    squarify.plot(sizes=df['pct_total'], label=df['word'], alpha=.8)\n",
    "    plt.axis('off')\n",
    "    plt.show()\n",
    "\n",
    "sqPlot(topGood)"
   ]
  },
  {
   "cell_type": "code",
   "execution_count": 263,
   "metadata": {},
   "outputs": [
    {
     "data": {
      "image/png": "[encoded data removed]",
      "text/plain": [
       "<Figure size 432x288 with 1 Axes>"
      ]
     },
     "metadata": {
      "needs_background": "light"
     },
     "output_type": "display_data"
    }
   ],
   "source": [
    "sqPlot(topBad)"
   ]
  },
  {
   "cell_type": "markdown",
   "metadata": {},
   "source": [
    "### Analysis\n",
    "\n",
    "the good appears to have words like 'delicious', 'best', and 'friendly' which paints an overall positive picture, while the bad has little clusters like 'order', 'didn't' and 'come' all together, which doesn't mean that they go together but doesn't paint as nice of a picture overall as the higher ratings. \n"
   ]
  },
  {
   "cell_type": "code",
   "execution_count": null,
   "metadata": {},
   "outputs": [],
   "source": []
  },
  {
   "cell_type": "code",
   "execution_count": null,
   "metadata": {},
   "outputs": [],
   "source": []
  },
  {
   "cell_type": "markdown",
   "metadata": {
    "colab_type": "text",
    "id": "1dCb1q8XphcP",
    "toc-hr-collapsed": true
   },
   "source": [
    "## Stretch Goals\n",
    "\n",
    "* Analyze another corpus of documents - such as Indeed.com job listings ;).\n",
    "* Play the the Spacy API to\n",
    " - Extract Named Entities\n",
    " - Extracting 'noun chunks'\n",
    " - Attempt Document Classification with just Spacy\n",
    " - *Note:* This [course](https://course.spacy.io/) will be of interesting in helping you with these stretch goals. \n",
    "* Try to build a plotly dash app with your text data \n",
    "\n"
   ]
  },
  {
   "cell_type": "code",
   "execution_count": null,
   "metadata": {},
   "outputs": [],
   "source": []
  }
 ],
 "metadata": {
  "colab": {
   "collapsed_sections": [],
   "name": "LS_DS_421_Text_Data_Assignment.ipynb",
   "provenance": [],
   "version": "0.3.2"
  },
  "kernelspec": {
   "display_name": "Python 3",
   "language": "python",
   "name": "python3"
  },
  "language_info": {
   "codemirror_mode": {
    "name": "ipython",
    "version": 3
   },
   "file_extension": ".py",
   "mimetype": "text/x-python",
   "name": "python",
   "nbconvert_exporter": "python",
   "pygments_lexer": "ipython3",
   "version": "3.7.3"
  },
  "toc-autonumbering": false
 },
 "nbformat": 4,
 "nbformat_minor": 4
}
